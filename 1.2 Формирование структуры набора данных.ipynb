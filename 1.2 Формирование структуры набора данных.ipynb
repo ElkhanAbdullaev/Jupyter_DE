{
 "cells": [
  {
   "cell_type": "markdown",
   "id": "05144281",
   "metadata": {},
   "source": [
    "# Модуль 1"
   ]
  },
  {
   "cell_type": "markdown",
   "id": "86f0ac64",
   "metadata": {},
   "source": [
    "Внимание! В каждом файле есть комментарии автора и его заметки для вашей дальнейшей успешной работы. После выполнения каждого блока кода, все пометки должны быть удалены. Для этого перед сдачей вашей работы проверяете весь код на различные комментарии и заметки. Спасибо за внимание!"
   ]
  },
  {
   "cell_type": "markdown",
   "id": "16f2690d",
   "metadata": {},
   "source": [
    "## 1.2 Формирование структуры выбора данных"
   ]
  },
  {
   "cell_type": "markdown",
   "id": "068164e2",
   "metadata": {},
   "source": [
    "Определите, какие атрибуты имеют наибольшее влияние на определенные классы(кластеров). Обоснуйте выбор дополнительных атрибутов и причину исключения каких-либо данных из набора данных."
   ]
  },
  {
   "cell_type": "markdown",
   "id": "9c2633b7",
   "metadata": {},
   "source": [
    "Сделаете вывод и напишите его."
   ]
  }
 ],
 "metadata": {
  "kernelspec": {
   "display_name": "Python 3 (ipykernel)",
   "language": "python",
   "name": "python3"
  },
  "language_info": {
   "codemirror_mode": {
    "name": "ipython",
    "version": 3
   },
   "file_extension": ".py",
   "mimetype": "text/x-python",
   "name": "python",
   "nbconvert_exporter": "python",
   "pygments_lexer": "ipython3",
   "version": "3.10.9"
  }
 },
 "nbformat": 4,
 "nbformat_minor": 5
}
