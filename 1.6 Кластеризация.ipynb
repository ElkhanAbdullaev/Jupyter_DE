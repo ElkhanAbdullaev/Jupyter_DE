{
 "cells": [
  {
   "cell_type": "markdown",
   "id": "a1dfb748",
   "metadata": {},
   "source": [
    "# Модуль 1"
   ]
  },
  {
   "cell_type": "markdown",
   "id": "1abb590e",
   "metadata": {},
   "source": [
    "Внимание! В каждом файле есть комментарии автора и его заметки для вашей дальнейшей успешной работы. После выполнения каждого блока кода, все пометки должны быть удалены. Для этого перед сдачей вашей работы проверяете весь код на различные комментарии и заметки. Спасибо за внимание!"
   ]
  },
  {
   "cell_type": "markdown",
   "id": "9cd8e315",
   "metadata": {},
   "source": [
    "## 1.6 Кластеризация"
   ]
  },
  {
   "cell_type": "code",
   "execution_count": null,
   "id": "7e473128",
   "metadata": {},
   "outputs": [],
   "source": [
    "from sklearn.cluster import KMeans, Birch, MiniBatchKMeans\n",
    "from sklearn.decomposition import PCA\n",
    "from sklearn.preprocessing import MinMaxScaler\n",
    "from sklearn.mixture import GaussianMixture"
   ]
  },
  {
   "cell_type": "markdown",
   "id": "9fa89547",
   "metadata": {},
   "source": [
    "### Кластеризация"
   ]
  },
  {
   "cell_type": "code",
   "execution_count": null,
   "id": "04b705e3",
   "metadata": {},
   "outputs": [],
   "source": [
    "X = df_tfidf.drop([\"Company\"], axis=1)"
   ]
  },
  {
   "cell_type": "code",
   "execution_count": null,
   "id": "7145b30a",
   "metadata": {},
   "outputs": [],
   "source": [
    "scaler = MinMaxScaler()\n",
    "X = scaler.fit_transform(X)"
   ]
  },
  {
   "cell_type": "code",
   "execution_count": null,
   "id": "52fb4838",
   "metadata": {},
   "outputs": [],
   "source": [
    "pca = PCA(n_components=2)\n",
    "X = pca.fit_transform(X)"
   ]
  },
  {
   "cell_type": "code",
   "execution_count": null,
   "id": "d01a027c",
   "metadata": {},
   "outputs": [],
   "source": [
    "def viz(prediction):\n",
    "    plt.figure(figsize=(12, 12))\n",
    "    plt.subplot(224)\n",
    "    plt.scatter(X[:, 0], X[:, 1], c=prediction)\n",
    "    plt.title(\"Unevenly Sized Blobs\")\n",
    "    plt.show()"
   ]
  },
  {
   "cell_type": "markdown",
   "id": "59f12645",
   "metadata": {},
   "source": [
    "**Первый метод кластеризации**"
   ]
  },
  {
   "cell_type": "code",
   "execution_count": null,
   "id": "fa86e1f3",
   "metadata": {},
   "outputs": [],
   "source": [
    "kmeans = KMeans(n_clusters=4, random_state=0).fit(X)\n",
    "kmpreds = kmeans.predict(X)\n",
    "df_tfidf[\"KMCLUSTS\"] = kmpreds\n",
    "\n",
    "viz(df_tfidf[\"KMCLUSTS\"])"
   ]
  },
  {
   "cell_type": "markdown",
   "id": "287d7761",
   "metadata": {},
   "source": [
    "**Второй метод кластеризации**"
   ]
  },
  {
   "cell_type": "code",
   "execution_count": null,
   "id": "e0ef4de1",
   "metadata": {},
   "outputs": [],
   "source": [
    "kbmeans = MiniBatchKMeans(n_clusters=4, random_state=0, batch_size=4096)\n",
    "df_tfidf[\"KBCLUSTS\"] = kbmeans.fit_predict(X)\n",
    "\n",
    "viz(df_tfidf[\"KBCLUSTS\"])"
   ]
  },
  {
   "cell_type": "markdown",
   "id": "ba714be7",
   "metadata": {},
   "source": [
    "**Третий метод кластеризации**"
   ]
  },
  {
   "cell_type": "code",
   "execution_count": null,
   "id": "5fb217fb",
   "metadata": {},
   "outputs": [],
   "source": [
    "gm = GaussianMixture(n_components=2, random_state=0).fit_predict(X)\n",
    "df_tfidf[\"GMCLUSTS\"] = gm\n",
    "\n",
    "viz(df_tfidf[\"GMCLUSTS\"])"
   ]
  },
  {
   "cell_type": "markdown",
   "id": "00d8260a",
   "metadata": {},
   "source": [
    "### Метрика оценки качества"
   ]
  },
  {
   "cell_type": "markdown",
   "id": "672d91a3",
   "metadata": {},
   "source": [
    "**Kmeans**"
   ]
  },
  {
   "cell_type": "code",
   "execution_count": null,
   "id": "09296112",
   "metadata": {},
   "outputs": [],
   "source": [
    "print(sklearn.metrics.calinski_harabasz_score(X, df_tfidf[\"KMCLUSTS\"]))\n",
    "print(sklearn.metrics.davies_bouldin_score(X, df_tfidf[\"KMCLUSTS\"]))"
   ]
  },
  {
   "cell_type": "markdown",
   "id": "011a32da",
   "metadata": {},
   "source": [
    "**MiniBatchKmeans**"
   ]
  },
  {
   "cell_type": "code",
   "execution_count": null,
   "id": "5b905b32",
   "metadata": {},
   "outputs": [],
   "source": [
    "print(sklearn.metrics.calinski_harabasz_score(X, df_tfidf[\"KBCLUSTS\"]))\n",
    "print(sklearn.metrics.davies_bouldin_score(X, df_tfidf[\"KBCLUSTS\"]))"
   ]
  },
  {
   "cell_type": "markdown",
   "id": "0713bfca",
   "metadata": {},
   "source": [
    "**GussianMixture**"
   ]
  },
  {
   "cell_type": "code",
   "execution_count": null,
   "id": "b5177839",
   "metadata": {},
   "outputs": [],
   "source": [
    "print(sklearn.metrics.calinski_harabasz_score(X, df_tfidf[\"GMCLUSTS\"]))\n",
    "print(sklearn.metrics.davies_bouldin_score(X, df_tfidf[\"GMCLUSTS\"]))"
   ]
  },
  {
   "cell_type": "markdown",
   "id": "76a3b0fc",
   "metadata": {},
   "source": [
    "**Удаление ненужных метрик**"
   ]
  },
  {
   "cell_type": "code",
   "execution_count": null,
   "id": "0e2e4ddc",
   "metadata": {},
   "outputs": [],
   "source": [
    "df_tfidf.drop(columns=['KMCLUSTS', 'KBCLUSTS'], axis=1, inplace=True)"
   ]
  }
 ],
 "metadata": {
  "kernelspec": {
   "display_name": "Python 3 (ipykernel)",
   "language": "python",
   "name": "python3"
  },
  "language_info": {
   "codemirror_mode": {
    "name": "ipython",
    "version": 3
   },
   "file_extension": ".py",
   "mimetype": "text/x-python",
   "name": "python",
   "nbconvert_exporter": "python",
   "pygments_lexer": "ipython3",
   "version": "3.10.9"
  }
 },
 "nbformat": 4,
 "nbformat_minor": 5
}
