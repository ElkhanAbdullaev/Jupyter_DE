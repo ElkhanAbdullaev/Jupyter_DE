{
 "cells": [
  {
   "cell_type": "markdown",
   "id": "23a60bc9",
   "metadata": {},
   "source": [
    "# Модуль 1"
   ]
  },
  {
   "cell_type": "markdown",
   "id": "b5ead093",
   "metadata": {},
   "source": [
    "Внимание! В каждом файле есть комментарии автора и его заметки для вашей дальнейшей успешной работы. После выполнения каждого блока кода, все пометки должны быть удалены. Для этого перед сдачей вашей работы проверяете весь код на различные комментарии и заметки. Спасибо за внимание!"
   ]
  },
  {
   "cell_type": "markdown",
   "id": "087963ee",
   "metadata": {},
   "source": [
    "## 1.4 Поиск ключевых слов/n-грамм. Векторизация текстов"
   ]
  },
  {
   "cell_type": "code",
   "execution_count": null,
   "id": "eb94306a",
   "metadata": {},
   "outputs": [],
   "source": [
    "import sklearn\n",
    "from sklearn.feature_extraction.text import TfidfVectorizer, CountVectorizer, HashingVectorizer"
   ]
  },
  {
   "cell_type": "markdown",
   "id": "07176c4e",
   "metadata": {},
   "source": [
    "**Первый способ векторизации**"
   ]
  },
  {
   "cell_type": "code",
   "execution_count": null,
   "id": "2813be6d",
   "metadata": {},
   "outputs": [],
   "source": [
    "tfidf = TfidfVectorizer(min_df=5,max_df=0.8, ngram_range=(1, 2))\n",
    "X_tfidf = tfidf.fit_transform(tk['clear_text'])\n",
    "\n",
    "df_tfidf = pd.DataFrame(X_tfidf.toarray(), columns = tfidf.get_feature_names_out())\n",
    "df_tfidf.head()"
   ]
  },
  {
   "cell_type": "code",
   "execution_count": null,
   "id": "545cbb1b",
   "metadata": {},
   "outputs": [],
   "source": [
    "X_tfidf"
   ]
  },
  {
   "cell_type": "code",
   "execution_count": null,
   "id": "43472771",
   "metadata": {},
   "outputs": [],
   "source": [
    "df_tfidf[\"Company\"]=tk[\"Company\"]"
   ]
  },
  {
   "cell_type": "markdown",
   "id": "91d9a7a4",
   "metadata": {},
   "source": [
    "**Второй способ векторизации**"
   ]
  },
  {
   "cell_type": "code",
   "execution_count": null,
   "id": "7372e8a9",
   "metadata": {},
   "outputs": [],
   "source": [
    "count = CountVectorizer(min_df=5,max_df=0.8, ngram_range=(1, 2))\n",
    "X_count = count.fit_transform(tk['clear_text'])\n",
    "df_count = pd.DataFrame(X_count.toarray(),columns = count.get_feature_names_out())\n",
    "df_count.head()"
   ]
  },
  {
   "cell_type": "code",
   "execution_count": null,
   "id": "226dd502",
   "metadata": {},
   "outputs": [],
   "source": [
    "X_count"
   ]
  },
  {
   "cell_type": "code",
   "execution_count": null,
   "id": "3e0d0004",
   "metadata": {},
   "outputs": [],
   "source": [
    "df_count[\"Company\"]=tk[\"Company\"]"
   ]
  },
  {
   "cell_type": "markdown",
   "id": "193985f1",
   "metadata": {},
   "source": [
    "**Третий способ векторизации**"
   ]
  },
  {
   "cell_type": "markdown",
   "id": "3283eacd",
   "metadata": {},
   "source": [
    "Нет смысла его делать, т.к. это самый наихудший способо векторизации для данного DataFram'a "
   ]
  }
 ],
 "metadata": {
  "kernelspec": {
   "display_name": "Python 3 (ipykernel)",
   "language": "python",
   "name": "python3"
  },
  "language_info": {
   "codemirror_mode": {
    "name": "ipython",
    "version": 3
   },
   "file_extension": ".py",
   "mimetype": "text/x-python",
   "name": "python",
   "nbconvert_exporter": "python",
   "pygments_lexer": "ipython3",
   "version": "3.10.9"
  }
 },
 "nbformat": 4,
 "nbformat_minor": 5
}
