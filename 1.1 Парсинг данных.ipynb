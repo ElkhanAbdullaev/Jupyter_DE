{
 "cells": [
  {
   "cell_type": "markdown",
   "id": "051619ad",
   "metadata": {},
   "source": [
    "# Модуль 1"
   ]
  },
  {
   "cell_type": "markdown",
   "id": "7ba80b6c",
   "metadata": {},
   "source": [
    "Внимание! В каждом файле есть комментарии автора и его заметки для вашей дальнейшей успешной работы. После выполнения каждого блока кода, все пометки должны быть удалены. Для этого перед сдачей вашей работы проверяете весь код на различные комментарии и заметки. Спасибо за внимание!"
   ]
  },
  {
   "cell_type": "markdown",
   "id": "96c4b5ed",
   "metadata": {},
   "source": [
    "## 1.1 Парсинг данных"
   ]
  },
  {
   "cell_type": "code",
   "execution_count": null,
   "id": "46b618a2",
   "metadata": {},
   "outputs": [],
   "source": [
    "#Импортирование необходимых библиотек\n",
    "import pandas as pd\n",
    "import numpy as np\n",
    "from pprint import pprint\n",
    "import matplotlib.pyplot as plt\n",
    "import seaborn as sns\n",
    "\n",
    "import codecs\n",
    "import json\n",
    "import glob\n",
    "pd.set_option('display.max_columns', None)\n",
    "from pandas import json_normalize"
   ]
  },
  {
   "cell_type": "markdown",
   "id": "2fefe29d",
   "metadata": {},
   "source": [
    "### Импорт данных"
   ]
  },
  {
   "cell_type": "markdown",
   "id": "983b5a50",
   "metadata": {},
   "source": [
    "Распаковываете данный архив Data на рабочий стол. Далее копируете путь распакованной папки + вставляете название самой папки."
   ]
  },
  {
   "cell_type": "code",
   "execution_count": null,
   "id": "004a5233",
   "metadata": {},
   "outputs": [],
   "source": [
    "#Путь к файлам .geojson\n",
    "\n",
    "path = 'C:/Users/user/Desktop/Data' #'C:/Users/user/Desktop/... - это путь (он может быть разный у всех), \n",
    "                                    #...Data - название папки\n",
    "\n",
    "file = glob.glob(path + \"/*.json\")\n",
    "df_full=pd.DataFrame()\n",
    "\n",
    "#df_full=pd.DataFrame(columns=['Пост', 'день публикации', 'месяц публикации', 'время публикации'])\n",
    "#Цикл для получения файла и его загрузки, используя json.load \n",
    "for filename in file:\n",
    "    name = filename.split(\"\\\\\")[-1][:-5]\n",
    "    with codecs.open(filename, 'r', 'utf-8-sig') as json_file:  \n",
    "        data = json.load(json_file)\n",
    "    \n",
    "    for article in data['refs']:  \n",
    "        if article != None:\n",
    "            df=pd.concat(\n",
    "                [\n",
    "                    pd.DataFrame([article[0]],columns=['Post']),\n",
    "                    json_normalize(article[1]),\n",
    "                    pd.DataFrame([name],columns=['Company'])\n",
    "                ],\n",
    "                axis=1\n",
    "            )\n",
    "            df_full=pd.concat([df_full,df],axis=0,ignore_index=True)"
   ]
  },
  {
   "cell_type": "code",
   "execution_count": null,
   "id": "9b17b2fd",
   "metadata": {},
   "outputs": [],
   "source": [
    "df_full.info()"
   ]
  },
  {
   "cell_type": "code",
   "execution_count": null,
   "id": "65042191",
   "metadata": {},
   "outputs": [],
   "source": [
    "df_full.head()"
   ]
  },
  {
   "cell_type": "markdown",
   "id": "c06e44f5",
   "metadata": {},
   "source": [
    "Формирование DataFrame с дополнительной информацией о компании: rate, subs, industries, about"
   ]
  },
  {
   "cell_type": "code",
   "execution_count": null,
   "id": "10d2f00f",
   "metadata": {},
   "outputs": [],
   "source": [
    "#Путь к файлам .geojson\n",
    "path = 'C:/Users/user/Desktop/Data' #'C:/Users/user/Desktop/... - это путь (он может быть разный у всех), \n",
    "                                    #...Data - название папки\n",
    "    \n",
    "file = glob.glob(path + \"/*.json\")\n",
    "\n",
    "df = pd.DataFrame(columns=['rate','subs','industries','about','Company']) \n",
    "\n",
    "#Цикл для получения файла и его загрузки, используя json.load \n",
    "for filename in file:\n",
    "    with codecs.open(filename, 'r', 'utf-8-sig') as json_file:  \n",
    "        data = json.load(json_file)\n",
    "        name = filename.split(\"\\\\\")[-1][:-5]   \n",
    "        try:\n",
    "            company_info=pd.concat([json_normalize(data['info']),pd.DataFrame([name],columns=['Company'])],axis=1)\n",
    "        except:\n",
    "            d={'rate':['Не указано'],'subs':['Не указано'],'industries':['Не указано'],'about':['Не указано']}\n",
    "            company_info=pd.concat([pd.DataFrame(d),pd.DataFrame([name],columns=['Company'])],axis=1)\n",
    "    df = pd.concat([df,company_info], axis=0, ignore_index=True)\n",
    "df.head()"
   ]
  },
  {
   "cell_type": "code",
   "execution_count": null,
   "id": "036d647c",
   "metadata": {},
   "outputs": [],
   "source": [
    "tk = df_full.merge(df, on='Company',how='left')"
   ]
  },
  {
   "cell_type": "code",
   "execution_count": null,
   "id": "a058dc81",
   "metadata": {},
   "outputs": [],
   "source": [
    "tk.shape"
   ]
  },
  {
   "cell_type": "code",
   "execution_count": null,
   "id": "35c06e82",
   "metadata": {},
   "outputs": [],
   "source": [
    "tk.head()"
   ]
  }
 ],
 "metadata": {
  "kernelspec": {
   "display_name": "Python 3 (ipykernel)",
   "language": "python",
   "name": "python3"
  },
  "language_info": {
   "codemirror_mode": {
    "name": "ipython",
    "version": 3
   },
   "file_extension": ".py",
   "mimetype": "text/x-python",
   "name": "python",
   "nbconvert_exporter": "python",
   "pygments_lexer": "ipython3",
   "version": "3.10.9"
  }
 },
 "nbformat": 4,
 "nbformat_minor": 5
}
