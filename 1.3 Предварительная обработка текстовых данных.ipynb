{
 "cells": [
  {
   "cell_type": "markdown",
   "id": "9cdf66bb",
   "metadata": {},
   "source": [
    "# Модуль 1"
   ]
  },
  {
   "cell_type": "markdown",
   "id": "5ea2ba3b",
   "metadata": {},
   "source": [
    "Внимание! В каждом файле есть комментарии автора и его заметки для вашей дальнейшей успешной работы. После выполнения каждого блока кода, все пометки должны быть удалены. Для этого перед сдачей вашей работы проверяете весь код на различные комментарии и заметки. Спасибо за внимание!"
   ]
  },
  {
   "cell_type": "markdown",
   "id": "d5a56200",
   "metadata": {},
   "source": [
    "## 1.3 Предварительная обработка текстовых данных"
   ]
  },
  {
   "cell_type": "markdown",
   "id": "9a9cfc4f",
   "metadata": {},
   "source": [
    "Если у вас возникает ошибка, то при помощи команд (приведены ниже) доустанавливаете нужные библиотеки:\n",
    "\n",
    "!pip install pymorphy2\n",
    "\n",
    "!pip install nltk\n",
    "\n",
    "nltk.download('stopwords')\n",
    "\n",
    "nltk.download('punkt')\n",
    "\n",
    "Данные команды копируете и вставляете в ячейку, с последующим выполнением кода."
   ]
  },
  {
   "cell_type": "code",
   "execution_count": null,
   "id": "e09816d8",
   "metadata": {},
   "outputs": [],
   "source": [
    "import pymorphy2\n",
    "import re\n",
    "import nltk\n",
    "from nltk.corpus import stopwords\n",
    "from nltk.tokenize import word_tokenize"
   ]
  },
  {
   "cell_type": "code",
   "execution_count": null,
   "id": "e8df13e6",
   "metadata": {},
   "outputs": [],
   "source": [
    "sw = stopwords.words('russian')\n",
    "morph = pymorphy2.MorphAnalyzer()\n",
    "\n",
    "def clear_text(text):\n",
    "    text=text.lower()\n",
    "    text = re.sub(r'[^а-яё ]','', str(text))\n",
    "    tokens=word_tokenize(text, language=\"russian\")\n",
    "    tokens = [morph.parse(i)[0].normal_form for i in tokens]\n",
    "    tokens = [i for i in tokens if i not in sw and len(i) > 3]\n",
    "    return tokens"
   ]
  },
  {
   "cell_type": "code",
   "execution_count": null,
   "id": "2c16ee8e",
   "metadata": {},
   "outputs": [],
   "source": [
    "tk['lemmatize_tokens'] = tk['Post'].apply(clear_text)"
   ]
  },
  {
   "cell_type": "code",
   "execution_count": null,
   "id": "95906e4d",
   "metadata": {},
   "outputs": [],
   "source": [
    "tk.head()"
   ]
  },
  {
   "cell_type": "code",
   "execution_count": null,
   "id": "568bb387",
   "metadata": {},
   "outputs": [],
   "source": [
    "tk['clear_text'] = tk['lemmatize_tokens'].apply(lambda x: \" \".join(x))"
   ]
  },
  {
   "cell_type": "code",
   "execution_count": null,
   "id": "759c6c0f",
   "metadata": {},
   "outputs": [],
   "source": [
    "tk.head()"
   ]
  },
  {
   "cell_type": "code",
   "execution_count": null,
   "id": "743aad96",
   "metadata": {},
   "outputs": [],
   "source": [
    "tk.to_csv('data.csv', index=False, encoding='utf-8-sig')"
   ]
  },
  {
   "cell_type": "code",
   "execution_count": null,
   "id": "aeda88cf",
   "metadata": {},
   "outputs": [],
   "source": [
    "tk.info()"
   ]
  }
 ],
 "metadata": {
  "kernelspec": {
   "display_name": "Python 3 (ipykernel)",
   "language": "python",
   "name": "python3"
  },
  "language_info": {
   "codemirror_mode": {
    "name": "ipython",
    "version": 3
   },
   "file_extension": ".py",
   "mimetype": "text/x-python",
   "name": "python",
   "nbconvert_exporter": "python",
   "pygments_lexer": "ipython3",
   "version": "3.10.9"
  }
 },
 "nbformat": 4,
 "nbformat_minor": 5
}
