{
 "cells": [
  {
   "cell_type": "markdown",
   "id": "330bdf70",
   "metadata": {},
   "source": [
    "# Модуль 1"
   ]
  },
  {
   "cell_type": "markdown",
   "id": "bd672c85",
   "metadata": {},
   "source": [
    "Внимание! В каждом файле есть комментарии автора и его заметки для вашей дальнейшей успешной работы. После выполнения каждого блока кода, все пометки должны быть удалены. Для этого перед сдачей вашей работы проверяете весь код на различные комментарии и заметки. Спасибо за внимание!"
   ]
  },
  {
   "cell_type": "markdown",
   "id": "40c54d06",
   "metadata": {},
   "source": [
    "## 1.5 Тематическое моделирование"
   ]
  },
  {
   "cell_type": "markdown",
   "id": "c3145846",
   "metadata": {},
   "source": [
    "Этот пункт не делаем!"
   ]
  }
 ],
 "metadata": {
  "kernelspec": {
   "display_name": "Python 3 (ipykernel)",
   "language": "python",
   "name": "python3"
  },
  "language_info": {
   "codemirror_mode": {
    "name": "ipython",
    "version": 3
   },
   "file_extension": ".py",
   "mimetype": "text/x-python",
   "name": "python",
   "nbconvert_exporter": "python",
   "pygments_lexer": "ipython3",
   "version": "3.10.9"
  }
 },
 "nbformat": 4,
 "nbformat_minor": 5
}
